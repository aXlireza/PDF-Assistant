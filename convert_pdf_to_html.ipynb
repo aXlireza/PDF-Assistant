{
 "cells": [
  {
   "cell_type": "code",
   "execution_count": 73,
   "metadata": {},
   "outputs": [],
   "source": [
    "import fitz  # PyMuPDF\n",
    "from collections import defaultdict\n",
    "import json\n",
    "import base64"
   ]
  },
  {
   "cell_type": "markdown",
   "metadata": {},
   "source": [
    "## convert to json"
   ]
  },
  {
   "cell_type": "code",
   "execution_count": 22,
   "metadata": {},
   "outputs": [
    {
     "name": "stdout",
     "output_type": "stream",
     "text": [
      "page 0 of The Digital Code of DNA.pdf\n",
      "page 1 of The Digital Code of DNA.pdf\n",
      "page 2 of The Digital Code of DNA.pdf\n",
      "page 3 of The Digital Code of DNA.pdf\n",
      "page 4 of The Digital Code of DNA.pdf\n"
     ]
    }
   ],
   "source": [
    "# Open the PDF file\n",
    "doc = fitz.open(\"The Digital Code of DNA.pdf\")  # Replace with the actual PDF file path\n",
    "raw_data = []\n",
    "\n",
    "# Process each page in the document\n",
    "for page in doc:\n",
    "    print(page)\n",
    "    blocks = page.get_text(\"dict\")\n",
    "    raw_data.append(blocks)\n",
    "    # for block in blocks: raw_data.append(block)"
   ]
  },
  {
   "cell_type": "markdown",
   "metadata": {},
   "source": [
    "### add id"
   ]
  },
  {
   "cell_type": "code",
   "execution_count": 91,
   "metadata": {},
   "outputs": [],
   "source": [
    "id_counter = 0\n",
    "for page in raw_data:\n",
    "  for block in page[\"blocks\"]:\n",
    "    if 'lines' in block:\n",
    "      for line in block[\"lines\"]:\n",
    "        for span in line[\"spans\"]:\n",
    "          span[\"id\"] = id_counter\n",
    "          id_counter+=1\n",
    "    elif 'image' in block:\n",
    "      block[\"id\"] = id_counter\n",
    "      id_counter+=1"
   ]
  },
  {
   "cell_type": "code",
   "execution_count": 92,
   "metadata": {},
   "outputs": [],
   "source": [
    "# Convert object data to JSON\n",
    "json_data = json.dumps(raw_data, default=str)\n",
    "\n",
    "with open('./raw_pdf.json', 'w') as json_file:\n",
    "    json_file.write(json_data)"
   ]
  },
  {
   "cell_type": "markdown",
   "metadata": {},
   "source": [
    "## Convert to html"
   ]
  },
  {
   "cell_type": "code",
   "execution_count": 276,
   "metadata": {},
   "outputs": [
    {
     "name": "stdout",
     "output_type": "stream",
     "text": [
      "HTML file has been generated successfully.\n"
     ]
    }
   ],
   "source": [
    "def process_block(element):\n",
    "    spans = []\n",
    "    if 'lines' in element:\n",
    "        for line in element['lines']:\n",
    "\n",
    "            # decide for writing-mode\n",
    "            writing_mode = 'horizontal-tb'\n",
    "            if line[\"dir\"][1] == -1: writing_mode = 'vertical-lr'\n",
    "\n",
    "            for span in line['spans']:\n",
    "                span[\"writing_mode\"] = writing_mode\n",
    "                spans.append(span)\n",
    "    elif 'image' in element:\n",
    "        spans.append(element)\n",
    "    else: print(element)\n",
    "\n",
    "    return spans\n",
    "\n",
    "# Open the HTML file in write mode\n",
    "with open('recreated.html', 'w') as html_file:\n",
    "    # Write the HTML file header\n",
    "    html_file.write(\"\"\"\n",
    "    <!DOCTYPE html>\n",
    "    <html lang=\"en\">\n",
    "    <head>\n",
    "        <meta charset=\"UTF-8\">\n",
    "        <meta name=\"viewport\" content=\"width=device-width, initial-scale=1.0\">\n",
    "        <title>Output HTML</title>\n",
    "        <style>\n",
    "            .divhoverable:hover {background-color: red}\n",
    "            .spanhoverable:hover {background-color: green}\n",
    "        </style>\n",
    "    </head>\n",
    "    <body>\n",
    "    \"\"\")\n",
    "\n",
    "    # Process each element in the data array\n",
    "    page_width = raw_data[0][\"width\"]\n",
    "    page_height = raw_data[0][\"height\"]\n",
    "    page_index = -1\n",
    "\n",
    "    for page in raw_data:\n",
    "        page_index += 1\n",
    "        # Process the element\n",
    "        for block in page[\"blocks\"]:\n",
    "            \n",
    "            if 'lines' in block:\n",
    "                html_file.write(f\"\"\"<div\n",
    "                    class=\"divhoverable\"\n",
    "                    style=\"\n",
    "                        position: absolute;\n",
    "                        left: {block[\"bbox\"][0]}px;\n",
    "                        top: {block[\"bbox\"][1]+(page_index*page_height)}px;\n",
    "                        width: {block[\"bbox\"][2]-block[\"bbox\"][0]+6}px;\n",
    "                        height: {block[\"bbox\"][3]-block[\"bbox\"][1]}px;\n",
    "                        line-height: 6px;\n",
    "                    \"\n",
    "                >\"\"\")\n",
    "\n",
    "                for line in block['lines']:\n",
    "\n",
    "                    # decide for writing-mode\n",
    "                    writing_mode = 'horizontal-tb'\n",
    "                    if line[\"dir\"][1] == -1: writing_mode = 'vertical-lr'\n",
    "\n",
    "                    for span in line['spans']:\n",
    "                        span[\"writing_mode\"] = writing_mode\n",
    "\n",
    "                        tag_name = 'span'\n",
    "                        # if span[\"flags\"] == 20: tag_name = 'p'\n",
    "                        # Generate HTML content for the processed element\n",
    "                        html_content = f\"\"\"\n",
    "                        <{tag_name}\n",
    "                            class=\"spanhoverable\"\n",
    "                            page_index=\"{page_index}\"\n",
    "                            style=\"\n",
    "                                text-align: justify;\n",
    "                                font-size: {span[\"size\"]-.5}px;\n",
    "                                line-height: 1.1;\n",
    "                                writing-mode: {span[\"writing_mode\"]};\n",
    "                                color: rgb({(span[\"color\"] >> 16) & 255}, {(span[\"color\"] >> 8) & 255}, {span[\"color\"] & 255});\n",
    "                            \"\n",
    "                        >{span[\"text\"]}</{tag_name}>\n",
    "                        \"\"\"\n",
    "\n",
    "                        # Write the HTML content to the file\n",
    "                        html_file.write(html_content)\n",
    "                \n",
    "                html_file.write(f\"\"\"</div>\"\"\")\n",
    "\n",
    "            else:\n",
    "                base64_image = block[\"image\"]\n",
    "                image_data_str = base64.b64encode(base64_image).decode('utf-8')\n",
    "\n",
    "                image_data_html = f\"data:image/jpeg;base64,{image_data_str}\"\n",
    "\n",
    "                html_content = f\"\"\"\n",
    "                <img\n",
    "                    page_index=\"{page_index}\"\n",
    "                    src=\"{image_data_html}\"\n",
    "                    width=\"{block[\"bbox\"][2]-block[\"bbox\"][0]}\"\n",
    "                    height=\"{block[\"bbox\"][3]-block[\"bbox\"][1]}\"\n",
    "                    style=\"\n",
    "                        position: absolute;\n",
    "                        left: {block[\"bbox\"][0]}px;\n",
    "                        top: {block[\"bbox\"][1]+(page_index*page_height)}px;\n",
    "                    \"\n",
    "                >\n",
    "                \"\"\"\n",
    "                    #   transform: matrix{block[\"transform\"]}\n",
    "                html_file.write(html_content)\n",
    "\n",
    "\n",
    "    # Write the HTML file footer\n",
    "    html_file.write(\"\"\"\n",
    "    </body>\n",
    "    </html>\n",
    "    \"\"\")\n",
    "\n",
    "print(\"HTML file has been generated successfully.\")\n"
   ]
  }
 ],
 "metadata": {
  "kernelspec": {
   "display_name": "Python 3",
   "language": "python",
   "name": "python3"
  },
  "language_info": {
   "codemirror_mode": {
    "name": "ipython",
    "version": 3
   },
   "file_extension": ".py",
   "mimetype": "text/x-python",
   "name": "python",
   "nbconvert_exporter": "python",
   "pygments_lexer": "ipython3",
   "version": "3.10.12"
  }
 },
 "nbformat": 4,
 "nbformat_minor": 2
}
