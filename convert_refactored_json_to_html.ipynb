{
 "cells": [
  {
   "cell_type": "code",
   "execution_count": 139,
   "metadata": {},
   "outputs": [],
   "source": [
    "import json\n",
    "f = open('./output.json')\n",
    "data = json.load(f)"
   ]
  },
  {
   "cell_type": "code",
   "execution_count": 140,
   "metadata": {},
   "outputs": [
    {
     "data": {
      "text/plain": [
       "[{'text': 'Tools to modify DNA',\n",
       "  'style': {'font': 'HelveticaNeue-BoldCond', 'size': 9.5, 'color': 26290},\n",
       "  'flag': 'small',\n",
       "  'id': 16,\n",
       "  'parts': ['Tools to modify DNA.']},\n",
       " {'text': 'The enzymes that function in cells to copy, cut and join DNA molecules were also exploited as key tools for revolutionary new tech-niques in molecular biology, including the cloning of genes andexpression of their proteins, and mapping the location of genes onchromosomes. The ability to recreate the process of DNA replicationartificially in the laboratory led to the development of two techniques',\n",
       "  'style': {'font': 'Minion-Regular',\n",
       "   'size': 8.835000038146973,\n",
       "   'color': 2236191},\n",
       "  'flag': 'text',\n",
       "  'id': 17,\n",
       "  'summery': 'The ability to recreate the process of replication replicationartificially in the laboratory led to the development of two techniques.',\n",
       "  'parts': ['The enzymes that function in cells to copy, cut and join DNA molecules were also exploited as key tools for revolutionary new tech-niques in molecular biology, including the cloning of genes andexpression of their proteins, and mapping the location of genes onchromosomes.',\n",
       "   ' The ability to recreate the process of DNA replicationartificially in the laboratory led to the development of two techniques.'],\n",
       "  'summery_parts': ['The ability to recreate the process of replication replicationartificially in the laboratory led to the development of two techniques.',\n",
       "   '.']}]"
      ]
     },
     "execution_count": 140,
     "metadata": {},
     "output_type": "execute_result"
    }
   ],
   "source": [
    "data[16:18]"
   ]
  },
  {
   "cell_type": "code",
   "execution_count": 141,
   "metadata": {},
   "outputs": [
    {
     "name": "stdout",
     "output_type": "stream",
     "text": [
      "image: 18\n",
      "image: 39\n",
      "image: 41\n"
     ]
    }
   ],
   "source": [
    "for i in range(len(data)):\n",
    "    if data[i]['flag'] == \"image\": print(\"image:\", i)"
   ]
  },
  {
   "cell_type": "code",
   "execution_count": 142,
   "metadata": {},
   "outputs": [],
   "source": [
    "def fontsize(flag):\n",
    "  if flag == 'large': return 50\n",
    "  elif flag == 'heading': return 40\n",
    "  elif flag == 'small': return 30\n",
    "  elif flag == 'text': return 20\n",
    "  elif flag == 'span': return 10\n",
    "  else: return 5\n",
    "\n",
    "def tag(flag):\n",
    "  # return 'p'\n",
    "  if flag == 'large': return 'h1'\n",
    "  elif flag == 'heading': return 'h2'\n",
    "  elif flag == 'small': return 'h3'\n",
    "  elif flag == 'text': return 'h4'\n",
    "  elif flag == 'span': return 'p'\n",
    "  else: return 'p'"
   ]
  },
  {
   "cell_type": "markdown",
   "metadata": {},
   "source": [
    "```TODO:``` A following marker word-by-word when speaking"
   ]
  },
  {
   "cell_type": "code",
   "execution_count": 143,
   "metadata": {},
   "outputs": [
    {
     "name": "stdout",
     "output_type": "stream",
     "text": [
      "HTML file has been generated successfully.\n"
     ]
    }
   ],
   "source": [
    "# Open the HTML file in write mode\n",
    "with open('interface.html', 'w') as html_file:\n",
    "    # Write the HTML file header\n",
    "    html_file.write(\"\"\"\n",
    "    <!DOCTYPE html>\n",
    "    <html lang=\"en\">\n",
    "    <head>\n",
    "        <meta charset=\"UTF-8\">\n",
    "        <meta name=\"viewport\" content=\"width=device-width, initial-scale=1.0\">\n",
    "        <title>Output HTML</title>\n",
    "        <style>\n",
    "                    .divhoverable:hover {background-color: red}\n",
    "                    .spanhoverable:hover {background-color: green}\n",
    "                    .spanhoverable:hover .toolbar, .spanhoverable .toolbar:hover {display: flex}\n",
    "                    .toolbar {\n",
    "                        display: none;\n",
    "                        position: absolute;\n",
    "                        margin-top: -2px;\n",
    "                    }\n",
    "\n",
    "        </style>\n",
    "        <script>\n",
    "                    function playaudio(address) {\n",
    "                        var audio = new Audio(address);\n",
    "                        audio.play();\n",
    "                    }\n",
    "\n",
    "        </script>\n",
    "    </head>\n",
    "    <body>\n",
    "    \"\"\")\n",
    "\n",
    "    for segment in data:\n",
    "        if segment[\"flag\"] == \"image\":\n",
    "            html_file.write(f\"\"\"\n",
    "                <img\n",
    "                    src=\"{segment['image']['image']}\"\n",
    "                    width=\"{segment['image']['bbox'][2]-segment['image']['bbox'][0]}\"\n",
    "                    height=\"{segment['image']['bbox'][3]-segment['image']['bbox'][1]}\"\n",
    "                >\n",
    "            \"\"\")\n",
    "        elif segment[\"flag\"] != \"span\":\n",
    "            html_file.write(f\"\"\"<{tag(segment[\"flag\"])} class=\"divhoverable\">\"\"\")\n",
    "            index = -1\n",
    "            for part in segment[\"parts\"]:\n",
    "                index+=1\n",
    "                html_file.write(f\"\"\"\n",
    "                    <span\n",
    "                    class=\"spanhoverable\"\n",
    "                    style=\"\n",
    "                        color: rgb({(segment[\"style\"][\"color\"] >> 16) & 255}, {(segment[\"style\"][\"color\"] >> 8) & 255}, {segment[\"style\"][\"color\"] & 255});\n",
    "                    \">\n",
    "                        {part}\n",
    "                        <div class=\"toolbar\">\n",
    "                            <button onclick=\"playaudio('./voices/{segment['id']}.part.{index}.wav')\">speak</button>\n",
    "                        </div>\n",
    "                    </span>\n",
    "                \"\"\")\n",
    "            html_file.write(f\"\"\"</{tag(segment[\"flag\"])}>\"\"\")\n",
    "\n",
    "\n",
    "    # Write the HTML file footer\n",
    "    html_file.write(\"\"\"\n",
    "    </body>\n",
    "    </html>\n",
    "    \"\"\")\n",
    "\n",
    "print(\"HTML file has been generated successfully.\")"
   ]
  }
 ],
 "metadata": {
  "kernelspec": {
   "display_name": "Python 3",
   "language": "python",
   "name": "python3"
  },
  "language_info": {
   "codemirror_mode": {
    "name": "ipython",
    "version": 3
   },
   "file_extension": ".py",
   "mimetype": "text/x-python",
   "name": "python",
   "nbconvert_exporter": "python",
   "pygments_lexer": "ipython3",
   "version": "3.10.12"
  }
 },
 "nbformat": 4,
 "nbformat_minor": 2
}
