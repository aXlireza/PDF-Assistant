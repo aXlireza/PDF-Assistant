{
 "cells": [
  {
   "cell_type": "code",
   "execution_count": null,
   "metadata": {},
   "outputs": [],
   "source": [
    "import fitz  # PyMuPDF\n",
    "import re\n",
    "from collections import defaultdict\n",
    "import json\n",
    "import operators"
   ]
  },
  {
   "cell_type": "code",
   "execution_count": null,
   "metadata": {},
   "outputs": [],
   "source": [
    "def styles_match(style1, style2):\n",
    "    \"\"\"Compares two style dictionaries to determine if they match.\"\"\"\n",
    "    return style1[\"font\"] == style2[\"font\"] and abs(style1[\"size\"] - style2[\"size\"]) < 1\n",
    "\n",
    "# Open the PDF file\n",
    "doc = fitz.open(\"The Digital Code of DNA.pdf\")  # Replace with the actual PDF file path\n",
    "\n",
    "segments = []\n",
    "current_segment = {\"text\": \"\", \"style\": None, \"bbox\": None}\n",
    "\n",
    "# Process each page in the document\n",
    "for page in doc:\n",
    "    blocks = page.get_text(\"dict\")[\"blocks\"]\n",
    "    for block in blocks:\n",
    "        for line in block.get(\"lines\", []):\n",
    "            for span in line.get(\"spans\", []):\n",
    "                text = span[\"text\"].strip()\n",
    "                style = {\"font\": span[\"font\"], \"size\": span[\"size\"]}\n",
    "                if text:\n",
    "                    if current_segment[\"style\"] and styles_match(current_segment[\"style\"], style):\n",
    "                        # Same style as previous, merge text\n",
    "                        current_segment[\"text\"] += \" \" + text\n",
    "                    else:\n",
    "                        # Different style, start a new segment\n",
    "                        if current_segment[\"text\"]:\n",
    "                            segments.append(current_segment)\n",
    "                        current_segment = {\"text\": text, \"style\": style}\n",
    "\n",
    "# Don't forget to add the last segment\n",
    "if current_segment[\"text\"]:\n",
    "    segments.append(current_segment)\n",
    "    \n",
    "# Close the document\n",
    "doc.close()\n",
    "\n",
    "# Example output\n",
    "for segment in segments[10:13]:  # Display the first few segments for brevity\n",
    "    print(f\"Text: {segment['text']}\\nsegments: {segment['text'].split('.')}\\nStyle: {segment['style']}\\n---\\n\")\n"
   ]
  },
  {
   "cell_type": "markdown",
   "metadata": {},
   "source": [
    "### mark down"
   ]
  },
  {
   "cell_type": "code",
   "execution_count": null,
   "metadata": {},
   "outputs": [],
   "source": [
    "def flag_text(text, style):\n",
    "  if style['size'] >= 20: return 'large'\n",
    "  elif style['size'] < 20 and style['size'] >= 10: return 'heading'\n",
    "  elif style['size'] < 10 and style['size'] >= 9: return 'small'\n",
    "  elif style['size'] < 9 and style['size'] > 7: return 'text'\n",
    "  else: return \"span\"\n",
    "\n",
    "print(flag_text(\"Tools to modify DNA\", {\"size\": 9.5}))\n",
    "print(flag_text(\"The enzymes that function in cells to copy, cut and join DNA molecules were also exploited as key tools for revolutionary new tech- niques in molecular biology, including the cloning of genes and expression of their proteins, and mapping the location of genes on chromosomes. The ability to recreate the process of DNA replication artificially in the laboratory led to the development of two techniques\", {\n",
    "  \"size\": 8.835000038146973}))\n",
    "print(flag_text(\"2\", {\"size\": 5.301000118255615}))\n"
   ]
  },
  {
   "cell_type": "code",
   "execution_count": null,
   "metadata": {},
   "outputs": [],
   "source": [
    "for segment in segments:\n",
    "  segment['flag'] = flag_text(segment['text'], segment['style'])"
   ]
  },
  {
   "cell_type": "code",
   "execution_count": null,
   "metadata": {},
   "outputs": [],
   "source": [
    "len(segments)"
   ]
  },
  {
   "cell_type": "markdown",
   "metadata": {},
   "source": [
    "### remove the small spans inside text\n",
    "which is actually a marker or flag but can't handle that right now"
   ]
  },
  {
   "cell_type": "code",
   "execution_count": null,
   "metadata": {},
   "outputs": [],
   "source": [
    "# Creating a new list with the items that should remain\n",
    "new_segments = []\n",
    "for i in range(len(segments)):\n",
    "    if not (segments[i]['flag'] == \"span\" and i > 0 and segments[i-1]['flag'] == 'text'):\n",
    "        new_segments.append(segments[i])\n",
    "\n",
    "segments = new_segments\n"
   ]
  },
  {
   "cell_type": "markdown",
   "metadata": {},
   "source": [
    "### merge segments of the same style"
   ]
  },
  {
   "cell_type": "code",
   "execution_count": null,
   "metadata": {},
   "outputs": [],
   "source": [
    "while True:\n",
    "    global segments\n",
    "    new_segments = []\n",
    "    i = 0\n",
    "    while i < len(segments) - 1:  # Adjust condition to ensure i+1 is always valid\n",
    "        if segments[i]['style']['size'] == segments[i+1]['style']['size']:\n",
    "            segments[i]['text'] += segments[i+1]['text']\n",
    "            new_segments.append(segments[i])\n",
    "            i += 2  # Skip the next segment since it's merged with the current one\n",
    "        else:\n",
    "            new_segments.append(segments[i])\n",
    "            i += 1\n",
    "\n",
    "    # Handle the last segment if it wasn't merged\n",
    "    if i == len(segments) - 1:\n",
    "        new_segments.append(segments[i])\n",
    "\n",
    "    print(len(new_segments))\n",
    "    if (len(segments) == len(new_segments)): break\n",
    "    else: segments = new_segments\n",
    "\n"
   ]
  },
  {
   "cell_type": "code",
   "execution_count": null,
   "metadata": {},
   "outputs": [],
   "source": [
    "len(segments)"
   ]
  },
  {
   "cell_type": "markdown",
   "metadata": {},
   "source": [
    "## Add Id"
   ]
  },
  {
   "cell_type": "code",
   "execution_count": null,
   "metadata": {},
   "outputs": [],
   "source": [
    "id_counter = 0\n",
    "for segment in segments:\n",
    "  segment['id'] = id_counter\n",
    "  id_counter += 1"
   ]
  },
  {
   "cell_type": "markdown",
   "metadata": {},
   "source": [
    "### generate summeries"
   ]
  },
  {
   "cell_type": "code",
   "execution_count": null,
   "metadata": {},
   "outputs": [],
   "source": [
    "for segment in segments:\n",
    "  if (segment['flag'] != 'span' and len(segment['text'])>20):\n",
    "    print(segment['id'])\n",
    "    segment['summery'] = operators.summerize(segment['text'])"
   ]
  },
  {
   "cell_type": "markdown",
   "metadata": {},
   "source": [
    "### Split to smaller chonks"
   ]
  },
  {
   "cell_type": "code",
   "execution_count": null,
   "metadata": {},
   "outputs": [],
   "source": [
    "def chop_down(text):\n",
    "  # remove some dots that are not meant as end of text\n",
    "  text = text.replace(\"(ref. \", \"(ref \")\n",
    "  text = text.replace(\"(Fig. \", \"(Fig \")\n",
    "\n",
    "  subtexts = text.split('.')\n",
    "  return subtexts"
   ]
  },
  {
   "cell_type": "code",
   "execution_count": null,
   "metadata": {},
   "outputs": [],
   "source": [
    "for segment in segments:\n",
    "  if segment['flag'] != 'span':\n",
    "    segment['parts'] = chop_down(segment['text'])\n",
    "    if 'summery' in segment:\n",
    "      segment['summery_parts'] = chop_down(segment['summery'])"
   ]
  },
  {
   "cell_type": "markdown",
   "metadata": {},
   "source": [
    "## generate voices"
   ]
  },
  {
   "cell_type": "code",
   "execution_count": null,
   "metadata": {},
   "outputs": [],
   "source": [
    "# for the summery texts\n",
    "for segment in segments:\n",
    "  if 'summery_parts' in segment:\n",
    "    # main part:\n",
    "    thesummarysplitted = [substr for substr in re.split(r\"[.!?;:]\", segment['summery']) if substr]\n",
    "    print(thesummarysplitted)\n",
    "    for tmptext in thesummarysplitted:\n",
    "      if len(tmptext) > 1: operators.readoutload(tmptext, f\"./voices/{segment['id']}.summary.wav\", False)\n",
    "\n",
    "    # sub parts\n",
    "    index = 0\n",
    "    for summery_part in segment['summery_parts']:\n",
    "      print(segment['id'], index)\n",
    "      thesummarysplitted = [substr for substr in re.split(r\"[!?;:]\", summery_part) if substr]\n",
    "      print(thesummarysplitted)\n",
    "      for tmptext in thesummarysplitted:\n",
    "        if len(tmptext) > 1: operators.readoutload(tmptext, f\"./voices/{segment['id']}.summary_part.{index}.wav\", False)\n",
    "      # operators.readoutload(segment['text'], f\"./voices/{segment['id']}.main.wav\", False)\n",
    "      index+=1"
   ]
  },
  {
   "cell_type": "code",
   "execution_count": null,
   "metadata": {},
   "outputs": [],
   "source": [
    "# for the original texts\n",
    "for segment in segments:\n",
    "  if 'parts' in segment:\n",
    "    # main part:\n",
    "    thesummarysplitted = [substr for substr in re.split(r\"[.!?;:]\", segment['text']) if substr]\n",
    "    print(thesummarysplitted)\n",
    "    for tmptext in thesummarysplitted:\n",
    "      if len(tmptext) > 1: operators.readoutload(tmptext, f\"./voices/{segment['id']}.original.wav\", False)\n",
    "\n",
    "    # sub parts\n",
    "    index = 0\n",
    "    for summery_part in segment['parts']:\n",
    "      print(segment['id'], index)\n",
    "      thesummarysplitted = [substr for substr in re.split(r\"[!?;:]\", summery_part) if substr]\n",
    "      print(thesummarysplitted)\n",
    "      for tmptext in thesummarysplitted:\n",
    "        if len(tmptext) > 1: operators.readoutload(tmptext, f\"./voices/{segment['id']}.part.{index}.wav\", False)\n",
    "      # operators.readoutload(segment['text'], f\"./voices/{segment['id']}.main.wav\", False)\n",
    "      index+=1"
   ]
  },
  {
   "cell_type": "markdown",
   "metadata": {},
   "source": [
    "# Store"
   ]
  },
  {
   "cell_type": "code",
   "execution_count": null,
   "metadata": {},
   "outputs": [],
   "source": [
    "with open('./output.json', 'w') as json_file:\n",
    "    json.dump(segments, json_file, indent=4)"
   ]
  }
 ],
 "metadata": {
  "kernelspec": {
   "display_name": "Python 3",
   "language": "python",
   "name": "python3"
  },
  "language_info": {
   "codemirror_mode": {
    "name": "ipython",
    "version": 3
   },
   "file_extension": ".py",
   "mimetype": "text/x-python",
   "name": "python",
   "nbconvert_exporter": "python",
   "pygments_lexer": "ipython3",
   "version": "3.10.12"
  }
 },
 "nbformat": 4,
 "nbformat_minor": 2
}
